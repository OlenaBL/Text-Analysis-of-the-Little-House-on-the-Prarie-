{
 "cells": [
  {
   "cell_type": "markdown",
   "metadata": {},
   "source": [
    "Text Analysis of the book \"Little House on the Prarie\" by Laura Ingalls Wilder"
   ]
  },
  {
   "cell_type": "code",
   "execution_count": 1,
   "metadata": {},
   "outputs": [],
   "source": [
    "import nltk, re\n",
    "from nltk.corpus import stopwords\n",
    "from nltk.tokenize import word_tokenize\n",
    "from nltk.util import ngrams\n",
    "from collections import Counter"
   ]
  },
  {
   "cell_type": "code",
   "execution_count": 2,
   "metadata": {},
   "outputs": [
    {
     "data": {
      "text/plain": [
       "76678"
      ]
     },
     "execution_count": 2,
     "metadata": {},
     "output_type": "execute_result"
    }
   ],
   "source": [
    "def book_source(title):\n",
    "    with open (title, \"r\", encoding=\"utf8\") as file:\n",
    "        text = file.read()\n",
    "        text = text.replace(\"\\n\", \" \").replace(\"\\r\", \" \")\n",
    "    return text\n",
    "\n",
    "text = book_source(\"Little_House_on_the_Prairie.txt\")\n",
    "len(text)"
   ]
  },
  {
   "cell_type": "code",
   "execution_count": 3,
   "metadata": {},
   "outputs": [
    {
     "data": {
      "text/plain": [
       "76678"
      ]
     },
     "execution_count": 3,
     "metadata": {},
     "output_type": "execute_result"
    }
   ],
   "source": [
    "def no_punct(text):\n",
    "    text = text.lower()\n",
    "    skips = [\",\", \".\", \":\", \"!\", \"?\", \"''\", \";\", \"''\", \"'\", \"'s\"]\n",
    "    for character in skips: \n",
    "        text = text.replace(character, \" \")\n",
    "    return text\n",
    "new_text = no_punct(text)\n",
    "len(new_text)"
   ]
  },
  {
   "cell_type": "code",
   "execution_count": 4,
   "metadata": {},
   "outputs": [],
   "source": [
    "from nltk.tokenize import word_tokenize\n",
    "tokens = word_tokenize(new_text)\n",
    "#print(tokenized_text)"
   ]
  },
  {
   "cell_type": "code",
   "execution_count": 5,
   "metadata": {},
   "outputs": [
    {
     "data": {
      "text/plain": [
       "7518"
      ]
     },
     "execution_count": 5,
     "metadata": {},
     "output_type": "execute_result"
    }
   ],
   "source": [
    "#removing stopwords\n",
    "stop_words = stopwords.words('english')\n",
    "\n",
    "def no_stopwords(new_text):\n",
    "    text = [word for word in tokens if word not in stop_words]\n",
    "    return text\n",
    "final_text = no_stopwords(new_text)\n",
    "len(final_text)"
   ]
  },
  {
   "cell_type": "code",
   "execution_count": 6,
   "metadata": {},
   "outputs": [
    {
     "data": {
      "text/plain": [
       "[('pa', 305), ('laura', 270), ('said', 214), ('mary', 121), ('house', 94)]"
      ]
     },
     "execution_count": 6,
     "metadata": {},
     "output_type": "execute_result"
    }
   ],
   "source": [
    "from collections import Counter\n",
    "word_counter = Counter(final_text)\n",
    "word_counter.most_common(5)"
   ]
  }
 ],
 "metadata": {
  "kernelspec": {
   "display_name": "Python 3",
   "language": "python",
   "name": "python3"
  },
  "language_info": {
   "codemirror_mode": {
    "name": "ipython",
    "version": 3
   },
   "file_extension": ".py",
   "mimetype": "text/x-python",
   "name": "python",
   "nbconvert_exporter": "python",
   "pygments_lexer": "ipython3",
   "version": "3.7.6"
  }
 },
 "nbformat": 4,
 "nbformat_minor": 4
}
