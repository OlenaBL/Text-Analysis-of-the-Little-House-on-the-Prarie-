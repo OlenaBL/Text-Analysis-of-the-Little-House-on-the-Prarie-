{
 "cells": [
  {
   "cell_type": "markdown",
   "metadata": {},
   "source": [
    "Text Analysis of the book \"Little House on the Prarie\" by Laura Ingalls Wilder"
   ]
  },
  {
   "cell_type": "code",
   "execution_count": 8,
   "metadata": {},
   "outputs": [
    {
     "data": {
      "text/plain": [
       "76678"
      ]
     },
     "execution_count": 8,
     "metadata": {},
     "output_type": "execute_result"
    }
   ],
   "source": [
    "import nltk\n",
    "\n",
    "def book_source(title):\n",
    "    with open (title, \"r\", encoding=\"utf8\") as file:\n",
    "        text = file.read()\n",
    "        text = text.replace(\"\\n\", \" \").replace(\"\\r\", \" \")\n",
    "    return text\n",
    "#print(text)\n",
    "\n",
    "text = book_source(\"Little_House_on_the_Prairie.txt\")\n",
    "len(text)"
   ]
  },
  {
   "cell_type": "code",
   "execution_count": null,
   "metadata": {},
   "outputs": [],
   "source": [
    "from collections import Counter\n",
    "\n",
    "def word_counter(clean_text):\n",
    "    text = text.lower()\n",
    "    skips = [\",\", \".\", \":\", \"!\", \"?\", \"''\", \";\", \"''\"]\n",
    "    for character in skips: \n",
    "        text = text.replace(character, \" \")\n",
    "    word_counter = Counter(text.split(\" \"))\n",
    "    return word_counter\n",
    "word_counter(text)\n",
    "#Manual way    \n",
    "#    num_words = {}\n",
    "#    for word in text.split(\" \"):\n",
    "#        if word in num_words:\n",
    "#            num_words[word] += 1\n",
    "#        else:\n",
    "#            num_words[word] = 1\n",
    "#    return num_words"
   ]
  },
  {
   "cell_type": "code",
   "execution_count": 13,
   "metadata": {},
   "outputs": [
    {
     "data": {
      "text/plain": [
       "[('the', 854),\n",
       " ('', 712),\n",
       " ('and', 628),\n",
       " ('to', 318),\n",
       " ('was', 280),\n",
       " ('Pa', 242),\n",
       " ('Laura', 214),\n",
       " ('a', 194),\n",
       " ('in', 184),\n",
       " ('of', 152),\n",
       " ('Ma', 145),\n",
       " ('she', 130),\n",
       " ('were', 126),\n",
       " ('he', 112),\n",
       " ('Mary', 103),\n",
       " ('they', 101),\n",
       " ('The', 100),\n",
       " ('said.', 99),\n",
       " ('his', 89),\n",
       " ('that', 83)]"
      ]
     },
     "execution_count": 13,
     "metadata": {},
     "output_type": "execute_result"
    }
   ],
   "source": [
    "from collections import Counter\n",
    "word_counter = Counter(text.split(\" \"))\n",
    "word_counter.most_common(20)\n",
    "#print(word_counter.items())"
   ]
  },
  {
   "cell_type": "code",
   "execution_count": null,
   "metadata": {},
   "outputs": [],
   "source": [
    "#import gensim\n",
    "#from gensim.parsing.preprocessing import remove_stopwords\n",
    "\n",
    "#text = \"\"\n",
    "#filtered_sentence = remove_stopwords(text)\n",
    "\n",
    "#print(filtered_sentence)"
   ]
  }
 ],
 "metadata": {
  "kernelspec": {
   "display_name": "Python 3",
   "language": "python",
   "name": "python3"
  },
  "language_info": {
   "codemirror_mode": {
    "name": "ipython",
    "version": 3
   },
   "file_extension": ".py",
   "mimetype": "text/x-python",
   "name": "python",
   "nbconvert_exporter": "python",
   "pygments_lexer": "ipython3",
   "version": "3.7.6"
  }
 },
 "nbformat": 4,
 "nbformat_minor": 4
}
